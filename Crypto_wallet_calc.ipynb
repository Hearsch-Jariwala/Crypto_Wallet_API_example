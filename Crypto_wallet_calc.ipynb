{
 "cells": [
  {
   "cell_type": "markdown",
   "id": "56d43bbf-8262-4ab3-b52f-efe546d4ae72",
   "metadata": {},
   "source": [
    "## Create Cryptocurrency Wallet Calculator through API's"
   ]
  },
  {
   "cell_type": "markdown",
   "id": "a0ace306-5082-449d-ae17-ef6758da552d",
   "metadata": {},
   "source": [
    "Determine the current value inside your cryptocurrency wallet. Collect the current prices for Bitcoin, Ethereum, Solana, & Polkadot utilizing Python Requests library."
   ]
  },
  {
   "cell_type": "code",
   "execution_count": null,
   "id": "351fab58-b4fb-4cf3-907c-0dc1a4c0d805",
   "metadata": {},
   "outputs": [],
   "source": [
    "# Import Libraries \n",
    "import requests\n",
    "import json\n",
    "import pandas as pd"
   ]
  },
  {
   "cell_type": "markdown",
   "id": "662e095d-dba4-4410-b044-ea38adb89cd7",
   "metadata": {},
   "source": [
    "### Total Amount of Crypto Owned"
   ]
  },
  {
   "cell_type": "code",
   "execution_count": null,
   "id": "ebcf6fc0-b785-4235-aa63-958b31b360ce",
   "metadata": {},
   "outputs": [],
   "source": [
    "# The current number of coins for each cryptocurrency asset held in the portfolio.\n",
    "btc_coins = 1.5\n",
    "eth_coins = 5.0\n",
    "sol_coins = 10\n",
    "dot_coins = 50"
   ]
  },
  {
   "cell_type": "markdown",
   "id": "136e07c4-c795-4e6e-9b4f-db0f81cf236b",
   "metadata": {},
   "source": [
    "### Free Crypto API Calls to Get Current Price"
   ]
  },
  {
   "cell_type": "code",
   "execution_count": null,
   "id": "2a43244a-c9af-48ee-a7eb-3a9ee3f0d6e9",
   "metadata": {},
   "outputs": [],
   "source": [
    "# The Free Crypto API Call endpoint URLs for the held cryptocurrency assets\n",
    "btc_url = \"https://api.alternative.me/v2/ticker/Bitcoin/?convert=USD\"\n",
    "eth_url = \"https://api.alternative.me/v2/ticker/Ethereum/?convert=USD\"\n",
    "sol_url = \"https://api.alternative.me/v2/ticker/Solana/?convert=USD\"\n",
    "dot_url = \"https://api.alternative.me/v2/ticker/Polkadot/?convert=USD\""
   ]
  },
  {
   "cell_type": "code",
   "execution_count": null,
   "id": "0c7b9708-dbfa-4512-8d68-5e4b24d8e8d0",
   "metadata": {},
   "outputs": [],
   "source": [
    "# Using the Python requests library, make an API call to access the current price of BTC\n",
    "btc_response = requests.get(btc_url).json()\n",
    "\n",
    "# Use the json.dumps function to review the response data from the API call\n",
    "# Use the indent and sort_keys parameters to make the response object readable\n",
    "\n",
    "print(json.dumps(btc_response, indent=4, sort_keys=True))"
   ]
  },
  {
   "cell_type": "code",
   "execution_count": null,
   "id": "650fffce-4abf-4771-8944-4e605893a4cb",
   "metadata": {},
   "outputs": [],
   "source": [
    "# Using the Python requests library, make an API call to access the current price ETH\n",
    "eth_response = requests.get(eth_url).json()\n",
    "\n",
    "# Use the json.dumps function to review the response data from the API call\n",
    "# Use the indent and sort_keys parameters to make the response object readable\n",
    "\n",
    "print(json.dumps(eth_response, indent=4, sort_keys=True))"
   ]
  },
  {
   "cell_type": "code",
   "execution_count": null,
   "id": "b0c91305-c8d2-4935-9fbf-8bd8a968d8e6",
   "metadata": {},
   "outputs": [],
   "source": [
    "# Using the Python requests library, make an API call to access the current price of SOL\n",
    "sol_response = requests.get(sol_url).json()\n",
    "\n",
    "# Use the json.dumps function to review the response data from the API call\n",
    "# Use the indent and sort_keys parameters to make the response object readable\n",
    "\n",
    "print(json.dumps(sol_response, indent=4, sort_keys=True))"
   ]
  },
  {
   "cell_type": "code",
   "execution_count": null,
   "id": "d90509be-65cc-4eaf-943a-6b6bb989e55d",
   "metadata": {},
   "outputs": [],
   "source": [
    "# Using the Python requests library, make an API call to access the current price of DOT\n",
    "dot_response = requests.get(dot_url).json()\n",
    "\n",
    "# Use the json.dumps function to review the response data from the API call\n",
    "# Use the indent and sort_keys parameters to make the response object readable\n",
    "\n",
    "print(json.dumps(dot_response, indent=4, sort_keys=True))"
   ]
  },
  {
   "cell_type": "markdown",
   "id": "2ab9c00a-0506-4e7c-b63f-624aedab054f",
   "metadata": {},
   "source": [
    "### Extract Current BTC, ETH, SOL, & DOT Price"
   ]
  },
  {
   "cell_type": "code",
   "execution_count": null,
   "id": "ab706e4f-b388-41a1-af1b-74dcba886b6d",
   "metadata": {},
   "outputs": [],
   "source": [
    "# Navigate the BTC response object to access the current price of BTC\n",
    "btc_price = btc_response['data']['1']['quotes']['USD']['price']\n",
    "\n",
    "# Print the current price of BTC\n",
    "print(f\"The Price for Bitcoin is $ {btc_price}\")"
   ]
  },
  {
   "cell_type": "code",
   "execution_count": null,
   "id": "b9b9b593-7272-4b6e-a564-5743185d45e3",
   "metadata": {},
   "outputs": [],
   "source": [
    "# Navigate the ETH response object to access the current price of ETH\n",
    "eth_price = eth_response['data']['1027']['quotes']['USD']['price']\n",
    "\n",
    "# Print the current price of ETH\n",
    "print(f\"The Price for Ethereum is $ {eth_price}\")"
   ]
  },
  {
   "cell_type": "code",
   "execution_count": null,
   "id": "ea251faf-1899-4819-8ad5-17e5dfed4deb",
   "metadata": {},
   "outputs": [],
   "source": [
    "# Navigate the SOL response object to access the current price of SOL\n",
    "sol_price = sol_response['data']['11733']['quotes']['USD']['price']\n",
    "\n",
    "# Print the current price of SOL\n",
    "print(f\"The Price for Solana is $ {sol_price}\")"
   ]
  },
  {
   "cell_type": "code",
   "execution_count": null,
   "id": "3b708148-ec92-4463-a86e-e3ed8bd278c6",
   "metadata": {},
   "outputs": [],
   "source": [
    "# Navigate the DOT response object to access the current price of DOT\n",
    "dot_price = dot_response['data']['11517']['quotes']['USD']['price']\n",
    "\n",
    "# Print the current price of DOT\n",
    "print(f\"The Price for Polkadot is $ {dot_price}\")"
   ]
  },
  {
   "cell_type": "markdown",
   "id": "9d270924-6a44-4195-bd5b-6ceb62462c75",
   "metadata": {},
   "source": [
    "### Calculating BTC, ETH, SOL, DOT Holdings"
   ]
  },
  {
   "cell_type": "code",
   "execution_count": null,
   "id": "eaf9366d-71f1-4104-af39-75f0c7ed5f4d",
   "metadata": {},
   "outputs": [],
   "source": [
    "# Compute the current value of the BTC holding \n",
    "btc_value = btc_coins * btc_price\n",
    "\n",
    "# Print current value of your holding in BTC\n",
    "\n",
    "print(f\"The Current Value of BTC Holding ${btc_value}\")"
   ]
  },
  {
   "cell_type": "code",
   "execution_count": null,
   "id": "642fe2d8-969b-485f-a393-c18eb6e97d0d",
   "metadata": {},
   "outputs": [],
   "source": [
    "# Compute the current value of the ETH holding \n",
    "eth_value = eth_coins * eth_price\n",
    "\n",
    "# Print current value of your holding in ETH\n",
    "\n",
    "print(f\"The Current Value of ETH Holding ${eth_value}\")"
   ]
  },
  {
   "cell_type": "code",
   "execution_count": null,
   "id": "8a33b0a4-b34a-4fc8-b519-446b326d5d0a",
   "metadata": {},
   "outputs": [],
   "source": [
    "# Compute the current value of the SOL holding \n",
    "sol_value = sol_coins * sol_price\n",
    "\n",
    "# Print current value of your holding in SOL\n",
    "\n",
    "print(f\"The Current Value of SOL Holding ${sol_value}\")"
   ]
  },
  {
   "cell_type": "code",
   "execution_count": null,
   "id": "8629ec88-2221-42a1-a02a-cb04e9d436f7",
   "metadata": {},
   "outputs": [],
   "source": [
    "# Compute the current value of the SOL holding \n",
    "dot_value = dot_coins * dot_price\n",
    "\n",
    "# Print current value of your holding in SOL\n",
    "\n",
    "print(f\"The Current Value of DOT Holding ${dot_value}\")"
   ]
  },
  {
   "cell_type": "markdown",
   "id": "dbd9be22-5d1a-4009-a02f-9d8fa9e8aad6",
   "metadata": {},
   "source": [
    "### Calculate Total Portfolio Value"
   ]
  },
  {
   "cell_type": "code",
   "execution_count": null,
   "id": "d5ba72f0-e85b-431a-abb3-68a34aff1cf9",
   "metadata": {},
   "outputs": [],
   "source": [
    "# Compute the total value of the cryptocurrency wallet\n",
    "# Add the value of the BTC holding to the value of the ETH holding\n",
    "total_crypto_wallet = btc_value + eth_value + sol_value + dot_value\n",
    "\n",
    "# Print current cryptocurrency wallet balance\n",
    "print(f\"Total Current Cryptocurrrency Wallet Balance ${total_crypto_wallet}\")"
   ]
  },
  {
   "cell_type": "code",
   "execution_count": null,
   "id": "1cc75102-317d-4e86-8d9e-1c348b79141b",
   "metadata": {},
   "outputs": [],
   "source": []
  }
 ],
 "metadata": {
  "kernelspec": {
   "display_name": "Python 3 (ipykernel)",
   "language": "python",
   "name": "python3"
  },
  "language_info": {
   "codemirror_mode": {
    "name": "ipython",
    "version": 3
   },
   "file_extension": ".py",
   "mimetype": "text/x-python",
   "name": "python",
   "nbconvert_exporter": "python",
   "pygments_lexer": "ipython3",
   "version": "3.9.7"
  }
 },
 "nbformat": 4,
 "nbformat_minor": 5
}
